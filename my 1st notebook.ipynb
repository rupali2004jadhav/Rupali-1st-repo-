{
 "cells": [
  {
   "cell_type": "code",
   "execution_count": 1,
   "id": "b12d73c4",
   "metadata": {},
   "outputs": [
    {
     "name": "stdout",
     "output_type": "stream",
     "text": [
      "Hello World\n"
     ]
    }
   ],
   "source": [
    "print(\"Hello World\")"
   ]
  },
  {
   "cell_type": "code",
   "execution_count": 2,
   "id": "354b905b",
   "metadata": {},
   "outputs": [
    {
     "name": "stdout",
     "output_type": "stream",
     "text": [
      "Hello world\n"
     ]
    }
   ],
   "source": [
    "print(\"Hello world\")"
   ]
  },
  {
   "cell_type": "code",
   "execution_count": 3,
   "id": "c771cc9d",
   "metadata": {},
   "outputs": [
    {
     "name": "stdout",
     "output_type": "stream",
     "text": [
      "hi i am rupali how are you all\n"
     ]
    }
   ],
   "source": [
    "print(\"hi i am rupali how are you all\")"
   ]
  },
  {
   "cell_type": "code",
   "execution_count": 4,
   "id": "560086e2",
   "metadata": {},
   "outputs": [
    {
     "name": "stdout",
     "output_type": "stream",
     "text": [
      "this time i have used single quote\n"
     ]
    }
   ],
   "source": [
    "print('this time i have used single quote')"
   ]
  },
  {
   "cell_type": "code",
   "execution_count": 5,
   "id": "6bee0119",
   "metadata": {},
   "outputs": [
    {
     "ename": "SyntaxError",
     "evalue": "EOL while scanning string literal (802219865.py, line 1)",
     "output_type": "error",
     "traceback": [
      "\u001b[1;36m  Input \u001b[1;32mIn [5]\u001b[1;36m\u001b[0m\n\u001b[1;33m    print('im sorry\")\u001b[0m\n\u001b[1;37m                     ^\u001b[0m\n\u001b[1;31mSyntaxError\u001b[0m\u001b[1;31m:\u001b[0m EOL while scanning string literal\n"
     ]
    }
   ],
   "source": [
    "print('im sorry\")"
   ]
  },
  {
   "cell_type": "code",
   "execution_count": 6,
   "id": "5f9bff6f",
   "metadata": {},
   "outputs": [
    {
     "name": "stdout",
     "output_type": "stream",
     "text": [
      "10\n"
     ]
    }
   ],
   "source": [
    "x=10\n",
    "y=5\n",
    "print(x)"
   ]
  },
  {
   "cell_type": "code",
   "execution_count": 7,
   "id": "07eb1e0a",
   "metadata": {},
   "outputs": [
    {
     "ename": "NameError",
     "evalue": "name 'hrishi' is not defined",
     "output_type": "error",
     "traceback": [
      "\u001b[1;31m---------------------------------------------------------------------------\u001b[0m",
      "\u001b[1;31mNameError\u001b[0m                                 Traceback (most recent call last)",
      "Input \u001b[1;32mIn [7]\u001b[0m, in \u001b[0;36m<cell line: 1>\u001b[1;34m()\u001b[0m\n\u001b[1;32m----> 1\u001b[0m z\u001b[38;5;241m=\u001b[39m\u001b[43mhrishi\u001b[49m\n\u001b[0;32m      2\u001b[0m x\u001b[38;5;241m=\u001b[39mrupali\n\u001b[0;32m      3\u001b[0m y\u001b[38;5;241m=\u001b[39melaksh\n",
      "\u001b[1;31mNameError\u001b[0m: name 'hrishi' is not defined"
     ]
    }
   ],
   "source": [
    "z=hrishi\n",
    "x=rupali\n",
    "y=elaksh\n",
    "print(y)"
   ]
  },
  {
   "cell_type": "code",
   "execution_count": 8,
   "id": "8f3b6d6b",
   "metadata": {},
   "outputs": [
    {
     "name": "stdout",
     "output_type": "stream",
     "text": [
      "hrishi\n"
     ]
    }
   ],
   "source": [
    "z='hrishi'\n",
    "y='elaksh'\n",
    "print(z)\n"
   ]
  },
  {
   "cell_type": "code",
   "execution_count": 9,
   "id": "f4beaf85",
   "metadata": {},
   "outputs": [
    {
     "name": "stdout",
     "output_type": "stream",
     "text": [
      "hrishielaksh\n"
     ]
    }
   ],
   "source": [
    "print(z+y)"
   ]
  },
  {
   "cell_type": "code",
   "execution_count": 10,
   "id": "02901be5",
   "metadata": {},
   "outputs": [
    {
     "name": "stdout",
     "output_type": "stream",
     "text": [
      "30\n"
     ]
    }
   ],
   "source": [
    "x=10\n",
    "y=20\n",
    "print(x+y)"
   ]
  },
  {
   "cell_type": "code",
   "execution_count": 11,
   "id": "e7ff0955",
   "metadata": {},
   "outputs": [
    {
     "name": "stdout",
     "output_type": "stream",
     "text": [
      "200\n"
     ]
    }
   ],
   "source": [
    "z=x*y\n",
    "print(z)"
   ]
  },
  {
   "cell_type": "code",
   "execution_count": 12,
   "id": "2bd55769",
   "metadata": {},
   "outputs": [
    {
     "name": "stdout",
     "output_type": "stream",
     "text": [
      "sum of x&y+ 200\n"
     ]
    }
   ],
   "source": [
    "print(\"sum of x&y+\",x*y)"
   ]
  },
  {
   "cell_type": "code",
   "execution_count": 13,
   "id": "cc8e09f4",
   "metadata": {},
   "outputs": [
    {
     "name": "stdout",
     "output_type": "stream",
     "text": [
      "sum of x & y= 30 i m too gud\n"
     ]
    }
   ],
   "source": [
    "print(\"sum of x & y=\", x+y, \"i m too gud\")"
   ]
  },
  {
   "cell_type": "code",
   "execution_count": 15,
   "id": "97826ad7",
   "metadata": {},
   "outputs": [
    {
     "name": "stdout",
     "output_type": "stream",
     "text": [
      "multipliction of x 10 and y 20 is 200\n"
     ]
    }
   ],
   "source": [
    "print(\"multipliction of x\", x,\"and y\",y,\"is\",x*y)"
   ]
  },
  {
   "cell_type": "code",
   "execution_count": 16,
   "id": "ed9227cf",
   "metadata": {},
   "outputs": [
    {
     "name": "stdout",
     "output_type": "stream",
     "text": [
      "multipliction of x= 10 and y= 20 is 200\n"
     ]
    }
   ],
   "source": [
    "print(\"multipliction of x=\",x,\"and y=\",y,\"is\",x*y)"
   ]
  },
  {
   "cell_type": "code",
   "execution_count": 17,
   "id": "5bc18a67",
   "metadata": {},
   "outputs": [
    {
     "name": "stdout",
     "output_type": "stream",
     "text": [
      "mul of x= 10 ,and y = 20 is 200\n"
     ]
    }
   ],
   "source": [
    "print(\"mul of x=\",x,','\"and y =\",y,\"is\",x*y)"
   ]
  },
  {
   "cell_type": "code",
   "execution_count": 18,
   "id": "85a2a2da",
   "metadata": {},
   "outputs": [
    {
     "name": "stdout",
     "output_type": "stream",
     "text": [
      "my ph no is 9766935609\n"
     ]
    }
   ],
   "source": [
    "print(\"my ph no is\",9766935609,)"
   ]
  },
  {
   "cell_type": "code",
   "execution_count": 19,
   "id": "95493f85",
   "metadata": {},
   "outputs": [
    {
     "name": "stdout",
     "output_type": "stream",
     "text": [
      "my name is rupali and my ph no is 9766935609\n"
     ]
    }
   ],
   "source": [
    "print(\"my name is rupali\",\"and my ph no is\",9766935609)"
   ]
  },
  {
   "cell_type": "code",
   "execution_count": 20,
   "id": "5000c0b1",
   "metadata": {},
   "outputs": [
    {
     "name": "stdout",
     "output_type": "stream",
     "text": [
      "6\n"
     ]
    }
   ],
   "source": [
    "x=2\n",
    "y=4\n",
    "z=x*y\n",
    "print(x+y)"
   ]
  },
  {
   "cell_type": "code",
   "execution_count": 26,
   "id": "fed11480",
   "metadata": {},
   "outputs": [
    {
     "name": "stdout",
     "output_type": "stream",
     "text": [
      "value of x+y is 6 and value of z is 6\n"
     ]
    }
   ],
   "source": [
    "print(\"value of x+y\",\"is\",x+y,\"and\",\"value of\",\"z is\",z)      "
   ]
  },
  {
   "cell_type": "code",
   "execution_count": 27,
   "id": "d9037afb",
   "metadata": {},
   "outputs": [
    {
     "name": "stdout",
     "output_type": "stream",
     "text": [
      "value of x+y is 6 and value of z is 6\n"
     ]
    }
   ],
   "source": [
    "print(\"value of x+y\",\"is\",x+y,\"and\",\"value of\",\"z is\",z)   "
   ]
  },
  {
   "cell_type": "code",
   "execution_count": 28,
   "id": "addb68a4",
   "metadata": {},
   "outputs": [
    {
     "name": "stdout",
     "output_type": "stream",
     "text": [
      "value of x+y is 6 and value of z is 8\n"
     ]
    }
   ],
   "source": [
    "x=2\n",
    "y=4\n",
    "z=x*y\n",
    "print(\"value of x+y\",\"is\",x+y,\"and\",\"value of\",\"z is\",z)   \n"
   ]
  },
  {
   "cell_type": "code",
   "execution_count": null,
   "id": "5a3569ae",
   "metadata": {},
   "outputs": [],
   "source": []
  }
 ],
 "metadata": {
  "kernelspec": {
   "display_name": "Python 3 (ipykernel)",
   "language": "python",
   "name": "python3"
  },
  "language_info": {
   "codemirror_mode": {
    "name": "ipython",
    "version": 3
   },
   "file_extension": ".py",
   "mimetype": "text/x-python",
   "name": "python",
   "nbconvert_exporter": "python",
   "pygments_lexer": "ipython3",
   "version": "3.9.12"
  }
 },
 "nbformat": 4,
 "nbformat_minor": 5
}
